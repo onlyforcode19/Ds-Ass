{
  "nbformat": 4,
  "nbformat_minor": 0,
  "metadata": {
    "colab": {
      "name": "DSAss1.ipynb",
      "provenance": []
    },
    "kernelspec": {
      "name": "python3",
      "display_name": "Python 3"
    }
  },
  "cells": [
    {
      "cell_type": "markdown",
      "metadata": {
        "id": "XtzIsScZ4M9N"
      },
      "source": [
        "Assignment Day 1 | 6th November 2020"
      ]
    },
    {
      "cell_type": "markdown",
      "metadata": {
        "id": "aqE_CuYJ4Vlj"
      },
      "source": [
        "Questions 1:\n",
        "\n",
        "Given the following jumbled word, OBANWRI guess the correct English word.\n",
        "\n",
        "A. RANIBOW\n",
        "\n",
        "B. RAINBOW\n",
        "\n",
        "C. BOWRANI\n",
        "\n",
        "D. ROBWANI\n",
        "\n",
        "\n",
        "Answer -  (B) RAINBOW"
      ]
    },
    {
      "cell_type": "markdown",
      "metadata": {
        "id": "vseSEc944f7X"
      },
      "source": [
        "Questions 2:\n",
        "\n",
        "Write a program which prints “LETS UPGRADE”. (Please note that you have to\n",
        "print in ALL CAPS as given)"
      ]
    },
    {
      "cell_type": "code",
      "metadata": {
        "id": "KgymMWpJ4Kyd",
        "outputId": "467cae97-4fee-4f3c-978b-7bca78563242",
        "colab": {
          "base_uri": "https://localhost:8080/"
        }
      },
      "source": [
        "string = \"Lets upgrade\"\n",
        "print(string.upper())"
      ],
      "execution_count": null,
      "outputs": [
        {
          "output_type": "stream",
          "text": [
            "LETS UPGRADE\n"
          ],
          "name": "stdout"
        }
      ]
    },
    {
      "cell_type": "markdown",
      "metadata": {
        "id": "NwFkxj3340e7"
      },
      "source": [
        "Questions 3:\n",
        "\n",
        "Write a program that takes cost price and selling price as input and displays whether the transaction is a\n",
        "Profit or a Loss or Neither.\n",
        "INPUT FORMAT\n",
        "\n",
        "The first line contains the cost price.\n",
        "\n",
        "The second line contains the selling price.\n",
        "\n",
        "OUTPUT FORMAT\n",
        "\n",
        "Print \"Profit\" if the transaction is a profit or \"Loss\" if it is a loss. If it is neither profit nor loss, print \"Neither\". (You must not have quotes in your output)"
      ]
    },
    {
      "cell_type": "code",
      "metadata": {
        "id": "SeEiB4Om5Gj-",
        "outputId": "15403d13-4824-4557-c31d-04b56da63fb4",
        "colab": {
          "base_uri": "https://localhost:8080/"
        }
      },
      "source": [
        "cp = int(input())\n",
        "sp = int(input())\n",
        "if cp < sp:\n",
        "  print(\"Profit\")\n",
        "elif cp > sp:\n",
        "  print(\"Loss\")\n",
        "else:\n",
        "  print(\"Neither\")"
      ],
      "execution_count": null,
      "outputs": [
        {
          "output_type": "stream",
          "text": [
            "19\n",
            "95\n",
            "Profit\n"
          ],
          "name": "stdout"
        }
      ]
    },
    {
      "cell_type": "markdown",
      "metadata": {
        "id": "5zzV-2Ph6feP"
      },
      "source": [
        "Questions 4:\n",
        "\n",
        "Write a program that takes an amount in Euros as input. You need to find its equivalent in\n",
        "Rupees and display it. Assume 1 Euro equals Rs. 80.\n",
        "Please note that you are expected to stick to the given input and output\n",
        "format as in sample test cases. Please don't add any extra lines such as\n",
        "'Enter a number', etc.\n",
        "Your program should take only one number as input and display the output."
      ]
    },
    {
      "cell_type": "code",
      "metadata": {
        "id": "1YG4GG-F6ojD",
        "outputId": "362e5729-7267-4df3-bc37-a1f233808bc4",
        "colab": {
          "base_uri": "https://localhost:8080/"
        }
      },
      "source": [
        "euros = int(input())\n",
        "rupees = euros*80\n",
        "print(rupees)"
      ],
      "execution_count": null,
      "outputs": [
        {
          "output_type": "stream",
          "text": [
            "95\n",
            "7600\n"
          ],
          "name": "stdout"
        }
      ]
    }
  ]
}