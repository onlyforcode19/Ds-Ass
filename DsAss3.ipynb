{
  "nbformat": 4,
  "nbformat_minor": 0,
  "metadata": {
    "colab": {
      "name": "DsAss3.ipynb",
      "provenance": []
    },
    "kernelspec": {
      "name": "python3",
      "display_name": "Python 3"
    }
  },
  "cells": [
    {
      "cell_type": "markdown",
      "metadata": {
        "id": "GtxFAj2P8dRI"
      },
      "source": [
        "Assignment Day 3 | 11th November 2020"
      ]
    },
    {
      "cell_type": "markdown",
      "metadata": {
        "id": "3ni_CCjA2k9o"
      },
      "source": [
        "Question 1\n",
        "\n",
        "Create a numpy array starting from 2 till 50 with a stepsize of 3."
      ]
    },
    {
      "cell_type": "code",
      "metadata": {
        "id": "KQeyHoxS2g6B",
        "outputId": "07bdff2c-f9aa-44ce-90b1-b6730332a727",
        "colab": {
          "base_uri": "https://localhost:8080/"
        }
      },
      "source": [
        "import numpy as np\n",
        "arr = np.arange(2,51,3)\n",
        "print(arr)"
      ],
      "execution_count": 1,
      "outputs": [
        {
          "output_type": "stream",
          "text": [
            "[ 2  5  8 11 14 17 20 23 26 29 32 35 38 41 44 47 50]\n"
          ],
          "name": "stdout"
        }
      ]
    },
    {
      "cell_type": "markdown",
      "metadata": {
        "id": "QcUrq1hj2kww"
      },
      "source": [
        "Questions 2\n",
        "\n",
        "Accept two lists of 5 elements each from the user.\n",
        "Convert them to numpy arrays. Concatenate these arrays and print it. Also sort these arrays and print it."
      ]
    },
    {
      "cell_type": "code",
      "metadata": {
        "id": "KPOgtMI13Jj2",
        "outputId": "a0e7598f-427e-47b0-9c10-5ffa95b7f6c1",
        "colab": {
          "base_uri": "https://localhost:8080/"
        }
      },
      "source": [
        "import numpy as np\n",
        "arr1=[] \n",
        "arr2=[]\n",
        "for i in range(0, 5): \n",
        "    e = int(input())\n",
        "    arr1.append(e)\n",
        "for i in range(0, 5): \n",
        "    e = int(input())\n",
        "    arr2.append(e) \n",
        "arr1 = np.array(arr1)\n",
        "arr2 = np.array(arr2)\n",
        "print(np.concatenate((arr1,arr2)))\n",
        "print(np.sort(np.concatenate((arr1,arr2))))"
      ],
      "execution_count": 6,
      "outputs": [
        {
          "output_type": "stream",
          "text": [
            "9\n",
            "8\n",
            "7\n",
            "6\n",
            "5\n",
            "4\n",
            "3\n",
            "2\n",
            "1\n",
            "10\n",
            "[ 9  8  7  6  5  4  3  2  1 10]\n",
            "[ 1  2  3  4  5  6  7  8  9 10]\n"
          ],
          "name": "stdout"
        }
      ]
    },
    {
      "cell_type": "markdown",
      "metadata": {
        "id": "wwsVDL3I3-N1"
      },
      "source": [
        "Questions 3:\n",
        "\n",
        "Write a code snippet to find the dimensions of a ndarray and its size."
      ]
    },
    {
      "cell_type": "code",
      "metadata": {
        "id": "oF3QKsZN3-u4",
        "outputId": "dba9302c-ee1c-4fb3-af2b-78531f28fa38",
        "colab": {
          "base_uri": "https://localhost:8080/"
        }
      },
      "source": [
        "import numpy as np\n",
        "arr = np.array([[2,3],[1,3],[1,4],[9,6]])\n",
        "print(arr.ndim)\n",
        "print(arr.size)"
      ],
      "execution_count": 9,
      "outputs": [
        {
          "output_type": "stream",
          "text": [
            "2\n",
            "8\n"
          ],
          "name": "stdout"
        }
      ]
    },
    {
      "cell_type": "markdown",
      "metadata": {
        "id": "zk7_BOEP43yU"
      },
      "source": [
        "Questions 4:\n",
        "\n",
        "How to convert a 1D array into a 2D array? Demonstrate with the help of a code snippet\n",
        "Hint: np.newaxis, np.expand_dims"
      ]
    },
    {
      "cell_type": "code",
      "metadata": {
        "id": "SpvweGjr44MI",
        "outputId": "96ddd7ca-4265-4f22-ea2b-28a4af01ab8a",
        "colab": {
          "base_uri": "https://localhost:8080/"
        }
      },
      "source": [
        "import numpy as np\n",
        "arr=np.random.rand(10,)\n",
        "print(arr.shape)\n",
        "print(arr.ndim,\"D array\")\n",
        "twod_arr = arr[np.newaxis, :]\n",
        "print(twod_arr.shape)\n",
        "print(twod_arr.ndim,\"D array\")"
      ],
      "execution_count": 17,
      "outputs": [
        {
          "output_type": "stream",
          "text": [
            "(10,)\n",
            "1 D array\n",
            "(1, 10)\n",
            "2 D array\n"
          ],
          "name": "stdout"
        }
      ]
    },
    {
      "cell_type": "markdown",
      "metadata": {
        "id": "lwj9t2Q_6bXu"
      },
      "source": [
        "Questions 5:\n",
        "\n",
        "Consider two square numpy arrays. Stack them vertically and horizontally.\n",
        "Hint: Use vstack(), hstack()\n"
      ]
    },
    {
      "cell_type": "code",
      "metadata": {
        "id": "fU55yaub6cqg",
        "outputId": "0afcffb2-6833-434a-f291-273dfcf976ff",
        "colab": {
          "base_uri": "https://localhost:8080/"
        }
      },
      "source": [
        "import numpy as np\n",
        "arr1=np.random.rand(2,2)\n",
        "arr2=np.random.rand(2,2)\n",
        "print(\"Vertical Stack\") \n",
        "print(np.vstack((arr1,arr2)))\n",
        "print(\"Horizontal Stack\") \n",
        "print(np.hstack((arr1,arr2)))"
      ],
      "execution_count": 20,
      "outputs": [
        {
          "output_type": "stream",
          "text": [
            "Vertical Stack\n",
            "[[0.05248855 0.66902095]\n",
            " [0.79031943 0.46385571]\n",
            " [0.02276637 0.47607352]\n",
            " [0.32397049 0.15276483]]\n",
            "Horizontal Stack\n",
            "[[0.05248855 0.66902095 0.02276637 0.47607352]\n",
            " [0.79031943 0.46385571 0.32397049 0.15276483]]\n"
          ],
          "name": "stdout"
        }
      ]
    },
    {
      "cell_type": "markdown",
      "metadata": {
        "id": "EI8fpvvX7rMZ"
      },
      "source": [
        "Questions 6:\n",
        "\n",
        "How to get unique items and counts of unique items?"
      ]
    },
    {
      "cell_type": "code",
      "metadata": {
        "id": "tpys9PKx7rjL",
        "outputId": "50cc9d1e-e8f8-4573-e193-71f3f226f136",
        "colab": {
          "base_uri": "https://localhost:8080/"
        }
      },
      "source": [
        "import numpy as np\n",
        "arr = np.array([11,22,33,44,55,66,77,11,44,44,55,66,88,77,77,77,77])\n",
        "print(np.unique(arr,return_counts=True))"
      ],
      "execution_count": 24,
      "outputs": [
        {
          "output_type": "stream",
          "text": [
            "(array([11, 22, 33, 44, 55, 66, 77, 88]), array([2, 1, 1, 3, 2, 2, 5, 1]))\n"
          ],
          "name": "stdout"
        }
      ]
    }
  ]
}