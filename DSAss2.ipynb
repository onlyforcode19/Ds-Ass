{
  "nbformat": 4,
  "nbformat_minor": 0,
  "metadata": {
    "colab": {
      "name": "DSAss2.ipynb",
      "provenance": [],
      "collapsed_sections": []
    },
    "kernelspec": {
      "name": "python3",
      "display_name": "Python 3"
    }
  },
  "cells": [
    {
      "cell_type": "markdown",
      "metadata": {
        "id": "3jiW3KOj9K7o"
      },
      "source": [
        "Assignment Day 2 | 9th November 2020\n",
        "\n",
        "\n"
      ]
    },
    {
      "cell_type": "markdown",
      "metadata": {
        "id": "l-lvJgGVCT_d"
      },
      "source": [
        "Question - 1:\n",
        "\n",
        "Create an empty list. Accept 10 numbers from the user and append to it the list if it is an even number."
      ]
    },
    {
      "cell_type": "code",
      "metadata": {
        "id": "0MtdHExjo3xj",
        "outputId": "70c24ef3-5790-484a-c629-456dc75dd5cb",
        "colab": {
          "base_uri": "https://localhost:8080/"
        }
      },
      "source": [
        "lst = []\n",
        "for i in range(10):\n",
        "    x = int(input(\"\\nEnter the number6 : \"))\n",
        "    if(x%2==0):\n",
        "      lst.append(x)   \n",
        "print(\"Even numbers are -\",lst)\n"
      ],
      "execution_count": 27,
      "outputs": [
        {
          "output_type": "stream",
          "text": [
            "\n",
            "Enter the number : 22\n",
            "\n",
            "Enter the number : 33\n",
            "\n",
            "Enter the number : 44\n",
            "\n",
            "Enter the number : 55\n",
            "\n",
            "Enter the number : 66\n",
            "\n",
            "Enter the number : 77\n",
            "\n",
            "Enter the number : 88\n",
            "\n",
            "Enter the number : 99\n",
            "\n",
            "Enter the number : 11\n",
            "\n",
            "Enter the number : 12\n",
            "Even numbers are - [22, 44, 66, 88, 12]\n"
          ],
          "name": "stdout"
        }
      ]
    },
    {
      "cell_type": "markdown",
      "metadata": {
        "id": "Iuu9BcU6o7CH"
      },
      "source": [
        "Question - 2\n",
        "\n",
        "Create a notebook on LIST COMPREHENSION. This exercise is to put you in a Self learning mode"
      ]
    },
    {
      "cell_type": "code",
      "metadata": {
        "id": "ZbVJG91lsw2x",
        "outputId": "a9780d23-4f1e-4ee7-a631-357efcea4ddf",
        "colab": {
          "base_uri": "https://localhost:8080/"
        }
      },
      "source": [
        "list = [i for i in range(1,20) if i%2==0]\n",
        "print(list)"
      ],
      "execution_count": null,
      "outputs": [
        {
          "output_type": "stream",
          "text": [
            "[2, 4, 6, 8, 10, 12, 14, 16, 18]\n"
          ],
          "name": "stdout"
        }
      ]
    },
    {
      "cell_type": "code",
      "metadata": {
        "id": "tgwjhujwmp4S",
        "outputId": "dd44b661-36d8-4e13-f8e8-4ca45e93333f",
        "colab": {
          "base_uri": "https://localhost:8080/"
        }
      },
      "source": [
        "list = [i for i in \"Data Science\"]\n",
        "print(list)"
      ],
      "execution_count": null,
      "outputs": [
        {
          "output_type": "stream",
          "text": [
            "['D', 'a', 't', 'a', ' ', 'S', 'c', 'i', 'e', 'n', 'c', 'e']\n"
          ],
          "name": "stdout"
        }
      ]
    },
    {
      "cell_type": "code",
      "metadata": {
        "id": "l2t6dgY08MZ0",
        "outputId": "6f09ce40-db7c-4324-cf9a-b4e8b6eccc85",
        "colab": {
          "base_uri": "https://localhost:8080/"
        }
      },
      "source": [
        "list = [1, 2, 3, 4, 5, 6, 7, 8]\n",
        "list = [i for i in lst if i%2==0 ]\n",
        "print(list)"
      ],
      "execution_count": 21,
      "outputs": [
        {
          "output_type": "stream",
          "text": [
            "[2, 4, 6, 8]\n"
          ],
          "name": "stdout"
        }
      ]
    },
    {
      "cell_type": "code",
      "metadata": {
        "id": "f9sSO1It8T6B",
        "outputId": "7d682e07-9e48-487d-a790-b0fefdc08706",
        "colab": {
          "base_uri": "https://localhost:8080/"
        }
      },
      "source": [
        "n = int(input())\n",
        "list = [x*x for x in range(1,n+1)]\n",
        "print(list)"
      ],
      "execution_count": 26,
      "outputs": [
        {
          "output_type": "stream",
          "text": [
            "6\n",
            "[1, 4, 9, 16, 25, 36]\n"
          ],
          "name": "stdout"
        }
      ]
    },
    {
      "cell_type": "markdown",
      "metadata": {
        "id": "LXS3gu0wgcJb"
      },
      "source": [
        "Question - 3:\n",
        "\n",
        "Given a number n, you have to write a program that generates a dictionary d which contains (i, i*i), where i is from 1 to n (both included)."
      ]
    },
    {
      "cell_type": "code",
      "metadata": {
        "id": "A-mc68nxghPe",
        "outputId": "3f767e2a-5dda-46a2-977f-4d2404198e15",
        "colab": {
          "base_uri": "https://localhost:8080/"
        }
      },
      "source": [
        "dict = {}\n",
        "n = int(input())\n",
        "for i in range(1,n+1):\n",
        "  dict[i] = i*i\n",
        "print(dict)\n",
        "\n"
      ],
      "execution_count": 28,
      "outputs": [
        {
          "output_type": "stream",
          "text": [
            "5\n",
            "{1: 1, 2: 4, 3: 9, 4: 16, 5: 25}\n"
          ],
          "name": "stdout"
        }
      ]
    },
    {
      "cell_type": "markdown",
      "metadata": {
        "id": "SUeCpqiIkK-b"
      },
      "source": [
        "Question - 4:\n",
        "\n",
        "Write a program to compute the distance between the current position after a sequence of movement and original point. If the distance is a float, then just print the nearest integer (use round() function for that and then convert it into an integer)."
      ]
    },
    {
      "cell_type": "code",
      "metadata": {
        "id": "9y52Rwh9hC5L",
        "outputId": "e1beb43e-fd96-4677-dace-6768e16c087d",
        "colab": {
          "base_uri": "https://localhost:8080/"
        }
      },
      "source": [
        "pos = {\"x\":0,\"y\":0}\n",
        "n = int(input())\n",
        "for i in range (n):\n",
        "    m =  input().split(\" \")      \n",
        "    \n",
        "    if m[0].lower() == \"up\":     \n",
        "        pos[\"y\"] += int(m[1])    \n",
        "    \n",
        "    elif m[0].lower() == \"down\":\n",
        "        pos[\"y\"] -= int(m[1])\n",
        "    \n",
        "    elif m[0].lower() == \"left\":\n",
        "        pos[\"x\"] -= int(m[1])\n",
        "    \n",
        "    elif m[0].lower() == \"right\":\n",
        "        pos[\"x\"] += int(m[1])\n",
        "\n",
        "print(round((pos[\"x\"]**2 + pos[\"y\"]**2)**0.5))\n"
      ],
      "execution_count": null,
      "outputs": [
        {
          "output_type": "stream",
          "text": [
            "4\n",
            "up 5\n",
            "down 3\n",
            "left 3\n",
            "right 2\n",
            "2\n"
          ],
          "name": "stdout"
        }
      ]
    }
  ]
}